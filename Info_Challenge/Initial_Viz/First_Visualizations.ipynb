{
 "cells": [
  {
   "cell_type": "markdown",
   "metadata": {},
   "source": [
    "# IMPORTANT DATA FOR 2024 (USE FOR COMPARISON)\n",
    "\n",
    "**Source**: [WMATA Metrorail Ridership Summary](https://www.wmata.com/initiatives/ridership-portal/Metrorail-Ridership-Summary.cfm)\n",
    "\n",
    "---\n",
    "\n",
    "### ALL DATA FOR 2024 ONLY (Calc By Hand From Website Data)\n",
    "\n",
    "#### Average (M-Sun) Daily Entries Per Day over the Whole Year\n",
    "- **Total Average**: 394,582\n",
    "\n",
    "#### Average Daily Entries Over All Stations by Day of the Week\n",
    "- **Mondays**: 339,775\n",
    "- **Tuesdays**: 423,610\n",
    "- **Wednesdays**: 427,648\n",
    "- **Thursdays**: 420,062\n",
    "- **Fridays**: 362,359\n",
    "- **Saturdays**: 270,954\n",
    "- **Sundays**: 204,772\n",
    "\n",
    "**Observation**:  \n",
    "- **Highest**: Mid-week (Tuesday to Thursday)  \n",
    "- **Lowest**: Weekends  \n",
    "- **Assumption**: A large portion of people primarily use the metro for commuting.\n",
    "\n",
    "---\n",
    "\n",
    "#### Average Daily Entries of All Stations by Month in 2024\n",
    "- **January**: 288,410\n",
    "- **February**: 328,881\n",
    "- **March**: 372,934\n",
    "- **April**: 384,630\n",
    "- **May**: 363,360\n",
    "- **June**: 360,303\n",
    "- **July**: 356,562\n",
    "- **August**: 329,019\n",
    "- **September**: 365,487\n",
    "- **October**: 400,764\n",
    "- **November**: 333,920\n",
    "- **December**: 314,386\n",
    "\n",
    "---\n",
    "\n",
    "#### Average Daily Entries by Season\n",
    "- **Spring (March, April, May)**: 373,641\n",
    "- **Summer (June, July, August)**: 348,628\n",
    "- **Fall (September, October, November)**: 366,723\n",
    "- **Winter (December, January, February)**: 310,559\n",
    "\n",
    "**Observation**:  \n",
    "- **Least Busy**: Summer and Winter  \n",
    "- **Most Busy**: Fall and Spring\n",
    "\n",
    "---\n",
    "\n",
    "#### Metro Information on Capacity\n",
    "- Metro can only run a maximum of **26 trains per hour** safely/efficiently on each track.\n",
    "- **120 max passengers** per car (section of train).\n",
    "- Trains are **6-8 cars long**.\n",
    "\n",
    "**Source**: [WMATA Corridor Data Maps](https://www.wmata.com/initiatives/plans/upload/BOS-Corridor-Data-Maps.pdf)\n"
   ]
  },
  {
   "cell_type": "code",
   "execution_count": 1,
   "metadata": {},
   "outputs": [
    {
     "name": "stdout",
     "output_type": "stream",
     "text": [
      "              X             Y              NAME  \\\n",
      "0 -8.561745e+06  4.696843e+06        Branch Ave   \n",
      "1 -8.577575e+06  4.695085e+06     Braddock Road   \n",
      "2 -8.578371e+06  4.694006e+06  King St-Old Town   \n",
      "3 -8.579491e+06  4.693126e+06    Eisenhower Ave   \n",
      "4 -8.579973e+06  4.692196e+06        Huntington   \n",
      "\n",
      "                                  ADDRESS          LINE  \\\n",
      "0       4704 OLD SOPER ROAD, SUITLAND, MD         green   \n",
      "1         700 N. WEST ST., ALEXANDRIA, VA  blue, yellow   \n",
      "2        1900 KING STREET, ALEXANDRIA, VA  blue, yellow   \n",
      "3  2400 EISENHOWER AVENUE, ALEXANDRIA, VA        yellow   \n",
      "4  2701 HUNTINGTON AVENUE, ALEXANDRIA, VA        yellow   \n",
      "\n",
      "                STATION_TYPE  NUMBER_OF_LINES  \n",
      "0  ['Residential', 'Events']                1  \n",
      "1    ['Residential', 'Jobs']                2  \n",
      "2    ['Residential', 'Jobs']                2  \n",
      "3    ['Residential', 'Jobs']                1  \n",
      "4            ['Residential']                1  \n"
     ]
    }
   ],
   "source": [
    "#Opening df for dataset on Metro Station Specs\n",
    "import pandas as pd\n",
    "\n",
    "stations_df = pd.read_csv(\"metro_stations.csv\")\n",
    "print(stations_df.head(5))\n",
    "\n"
   ]
  },
  {
   "cell_type": "code",
   "execution_count": 2,
   "metadata": {},
   "outputs": [
    {
     "name": "stdout",
     "output_type": "stream",
     "text": [
      "         Station Name AM Peak (Open-9:30am) Midday (9:30am-3pm)  \\\n",
      "0        Addison Road                580.00              287.00   \n",
      "1           Anacostia              1,054.00            1,062.00   \n",
      "2            Archives                145.00              725.00   \n",
      "3  Arlington Cemetery                 52.00              234.00   \n",
      "4             Ashburn                491.00              239.00   \n",
      "\n",
      "  PM Peak (3pm-7pm) Evening (7pm-12am)  Late Night (12am-Close)    MONTH  \\\n",
      "0            149.00              78.00                      8.0  January   \n",
      "1            907.00             332.00                     18.0  January   \n",
      "2          2,167.00             429.00                     12.0  January   \n",
      "3            222.00              39.00                      5.0  January   \n",
      "4            139.00              39.00                      2.0  January   \n",
      "\n",
      "   SEASON  \n",
      "0  Winter  \n",
      "1  Winter  \n",
      "2  Winter  \n",
      "3  Winter  \n",
      "4  Winter  \n"
     ]
    }
   ],
   "source": [
    "#Opening df for dataset on Average entries by station by month for all days of the week in 2024\n",
    "import pandas as pd\n",
    "\n",
    "av_by_month_df = pd.read_csv(\"All_Months.csv\")\n",
    "print(av_by_month_df.head(5))"
   ]
  },
  {
   "cell_type": "code",
   "execution_count": 3,
   "metadata": {},
   "outputs": [
    {
     "name": "stdout",
     "output_type": "stream",
     "text": [
      "   Station Name AM Peak (Open-9:30am) Midday (9:30am-3pm) PM Peak (3pm-7pm)  \\\n",
      "0  Addison Road                678.00              358.00            199.00   \n",
      "1     Anacostia              1,129.00            1,063.00            988.00   \n",
      "2      Archives                153.00              994.00          2,721.00   \n",
      "\n",
      "  Evening (7pm-12am)  Late Night (12am-Close)  \n",
      "0             107.00                      9.0  \n",
      "1             314.00                     15.0  \n",
      "2             697.00                     14.0  \n",
      "   Station Name AM Peak (Open-9:30am) Midday (9:30am-3pm) PM Peak (3pm-7pm)  \\\n",
      "0  Addison Road                884.00              384.00            213.00   \n",
      "1     Anacostia              1,451.00            1,161.00          1,195.00   \n",
      "2      Archives                188.00            1,044.00          3,131.00   \n",
      "\n",
      "  Evening (7pm-12am)  Late Night (12am-Close)  \n",
      "0             109.00                      9.0  \n",
      "1             333.00                     14.0  \n",
      "2             761.00                     12.0  \n",
      "   Station Name  AM Peak (Open-9:30am) Midday (9:30am-3pm) PM Peak (3pm-7pm)  \\\n",
      "0  Addison Road                  159.0              292.00            163.00   \n",
      "1     Anacostia                  320.0              817.00            465.00   \n",
      "2      Archives                   66.0              866.00          1,686.00   \n",
      "\n",
      "  Evening (7pm-12am)  Late Night (12am-Close)  \n",
      "0             101.00                      9.0  \n",
      "1             266.00                     16.0  \n",
      "2             535.00                     18.0  \n"
     ]
    }
   ],
   "source": [
    "#df for average annual entries for all days, weekdays, and weekends in respective order\n",
    "import pandas as pd\n",
    "\n",
    "av_for_year_all_days_df = pd.read_csv(\"Boardings by Route Table All Days of Week 2024.csv\")\n",
    "av_for_year_weekdays_df = pd.read_csv(\"Boardings by Route Table Weekdays(M-F) 2024.csv\")\n",
    "av_for_year_weekends_df = pd.read_csv(\"Boardings by Route Table Weekends(Sat-Sun) 2024.csv\")\n",
    "\n",
    "print(av_for_year_all_days_df.head(3))\n",
    "print(av_for_year_weekdays_df.head(3))\n",
    "print(av_for_year_weekends_df.head(3))"
   ]
  },
  {
   "cell_type": "markdown",
   "metadata": {},
   "source": [
    "Note: The names of the stations should match up for all dfs"
   ]
  },
  {
   "cell_type": "markdown",
   "metadata": {},
   "source": [
    "Using this info let's try to explore some stuff using basic viz tools in python.\n",
    "\n",
    "Here are my ideas so far:\n",
    "\n",
    "1. "
   ]
  }
 ],
 "metadata": {
  "kernelspec": {
   "display_name": "Python 3",
   "language": "python",
   "name": "python3"
  },
  "language_info": {
   "codemirror_mode": {
    "name": "ipython",
    "version": 3
   },
   "file_extension": ".py",
   "mimetype": "text/x-python",
   "name": "python",
   "nbconvert_exporter": "python",
   "pygments_lexer": "ipython3",
   "version": "3.12.6"
  }
 },
 "nbformat": 4,
 "nbformat_minor": 2
}
