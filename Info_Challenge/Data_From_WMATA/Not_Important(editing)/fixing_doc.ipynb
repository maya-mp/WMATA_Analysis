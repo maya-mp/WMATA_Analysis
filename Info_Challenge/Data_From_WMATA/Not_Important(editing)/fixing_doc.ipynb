{
 "cells": [
  {
   "cell_type": "markdown",
   "metadata": {},
   "source": [
    "This doc serves as a way to keep track of data documentation since that is crucial for data transparency\n",
    "\n",
    "Finding Nameing Discrepencies Between stuff in Data_From_WMATA/CSV_Format name column and Data_From_WMATA/metro_stations.csv(or xlsx)\n",
    "\n",
    "the stuff in the CSV_Format folder takes priority since there are like 20 something files in it"
   ]
  },
  {
   "cell_type": "code",
   "execution_count": null,
   "metadata": {},
   "outputs": [
    {
     "name": "stdout",
     "output_type": "stream",
     "text": [
      "{'Dunn Loring-Merrifield', 'Woodley Park-Zoo/Adams Morgan', 'Southern Avenue', 'Gallery Pl-Chinatown', 'Vienna/Fairfax-GMU', 'Virginia Square-GMU', 'Addison Road-Seat Pleasant', 'Washington Dulles International Airport', 'Rhode Island Ave-Brentwood', 'U Street/African-Amer Civil War Memorial/Cardozo', 'Mt Vernon Sq 7th St-Convention Center', 'Archives-Navy Memorial-Penn Quarter'}\n",
      "12\n",
      "{'U Street', 'Addison Road', 'Archives', 'Mt Vernon Sq', 'Woodley Park', 'Rhode Island Ave', 'Dunn Loring', 'Southern Ave', 'Virginia Sq-GMU', 'Vienna', 'Gallery Place', 'Dulles Airport'}\n",
      "12\n"
     ]
    }
   ],
   "source": [
    "metro_station = ['Branch Ave', 'Braddock Road', 'King St-Old Town', 'Eisenhower Ave',\n",
    "                 'Huntington', 'Anacostia', 'Eastern Market', 'Potomac Ave', 'Stadium-Armory', \n",
    "                 'Rhode Island Ave-Brentwood', 'Minnesota Ave', 'Van Ness-UDC', 'Cleveland Park', \n",
    "                 'Columbia Heights', 'Spring Hill', 'Greensboro', 'Tysons', 'McLean', 'New Carrollton', \n",
    "                 'Landover', 'Cheverly', 'Downtown Largo', 'NoMa-Gallaudet U', 'Rosslyn', 'Arlington Cemetery',\n",
    "                 'Dupont Circle', 'Pentagon', 'Crystal City', 'Navy Yard-Ballpark', 'McPherson Sq', 'Shaw-Howard U',\n",
    "                 'Southern Avenue', 'Greenbelt', 'Tenleytown-AU', 'West Falls Church', 'Wiehle-Reston East', \n",
    "                 'College Park-U of Md', 'Capitol Heights', 'Morgan Boulevard', 'Georgia Ave-Petworth', 'Takoma',\n",
    "                 'Glenmont', 'Wheaton', 'Forest Glen', 'Silver Spring', 'Brookland-CUA', 'Fort Totten', \n",
    "                 'Hyattsville Crossing', 'West Hyattsville', 'Benning Road', 'Addison Road-Seat Pleasant', \n",
    "                 'Deanwood', 'Shady Grove', 'Rockville', 'Twinbrook', 'North Bethesda', 'Grosvenor-Strathmore',\n",
    "                 'Medical Center', 'Bethesda', 'Foggy Bottom-GWU', 'Court House', 'Clarendon', 'East Falls Church',\n",
    "                 'Virginia Square-GMU', 'Ballston-MU', 'Farragut West', 'Farragut North', 'Woodley Park-Zoo/Adams Morgan',\n",
    "                 \"L'Enfant Plaza\", 'Smithsonian', 'Archives-Navy Memorial-Penn Quarter', 'Waterfront', \n",
    "                 'Ronald Reagan Washington National Airport', 'Van Dorn Street', 'Franconia-Springfield', \n",
    "                 'Federal Center SW', 'Judiciary Square', 'Capitol South', 'Metro Center', 'Gallery Pl-Chinatown',\n",
    "                 'Mt Vernon Sq 7th St-Convention Center', 'U Street/African-Amer Civil War Memorial/Cardozo', \n",
    "                 'Union Station', 'Congress Heights', 'Naylor Road', 'Suitland', 'Dunn Loring-Merrifield',\n",
    "                 'Vienna/Fairfax-GMU', 'Friendship Heights', 'Pentagon City', 'Federal Triangle', 'Reston Town Center',\n",
    "                 'Herndon', 'Innovation Center', 'Washington Dulles International Airport', 'Loudoun Gateway', \n",
    "                 'Ashburn', 'Potomac Yard']\n",
    "\n",
    "original = [\n",
    "    \"Addison Road\", \"Anacostia\", \"Archives\", \"Arlington Cemetery\", \"Ashburn\",\n",
    "    \"Ballston-MU\", \"Benning Road\", \"Bethesda\", \"Braddock Road\", \"Branch Ave\",\n",
    "    \"Brookland-CUA\", \"Capitol Heights\", \"Capitol South\", \"Cheverly\", \"Clarendon\",\n",
    "    \"Cleveland Park\", \"College Park-U of Md\", \"Columbia Heights\", \"Congress Heights\",\n",
    "    \"Court House\", \"Crystal City\", \"Deanwood\", \"Downtown Largo\", \"Dulles Airport\",\n",
    "    \"Dunn Loring\", \"Dupont Circle\", \"East Falls Church\", \"Eastern Market\", \"Eisenhower Ave\",\n",
    "    \"Farragut North\", \"Farragut West\", \"Federal Center SW\", \"Federal Triangle\", \"Foggy Bottom-GWU\",\n",
    "    \"Forest Glen\", \"Fort Totten\", \"Franconia-Springfield\", \"Friendship Heights\", \"Gallery Place\",\n",
    "    \"Georgia Ave-Petworth\", \"Glenmont\", \"Greenbelt\", \"Greensboro\", \"Grosvenor-Strathmore\",\n",
    "    \"Herndon\", \"Huntington\", \"Hyattsville Crossing\", \"Innovation Center\", \"Judiciary Square\",\n",
    "    \"King St-Old Town\", \"L'Enfant Plaza\", \"Landover\", \"Loudoun Gateway\", \"McLean\",\n",
    "    \"McPherson Sq\", \"Medical Center\", \"Metro Center\", \"Minnesota Ave\", \"Morgan Boulevard\",\n",
    "    \"Mt Vernon Sq\", \"Navy Yard-Ballpark\", \"Naylor Road\", \"New Carrollton\", \"NoMa-Gallaudet U\",\n",
    "    \"North Bethesda\", \"Pentagon\", \"Pentagon City\", \"Potomac Ave\", \"Potomac Yard\",\n",
    "    \"Reston Town Center\", \"Rhode Island Ave\", \"Rockville\", \"Ronald Reagan Washington National Airport\",\n",
    "    \"Rosslyn\", \"Shady Grove\", \"Shaw-Howard U\", \"Silver Spring\", \"Smithsonian\",\n",
    "    \"Southern Ave\", \"Spring Hill\", \"Stadium-Armory\", \"Suitland\", \"Takoma\",\n",
    "    \"Tenleytown-AU\", \"Twinbrook\", \"Tysons\", \"U Street\", \"Union Station\",\n",
    "    \"Van Dorn Street\", \"Van Ness-UDC\", \"Vienna\", \"Virginia Sq-GMU\", \"Waterfront\",\n",
    "    \"West Falls Church\", \"West Hyattsville\", \"Wheaton\", \"Wiehle-Reston East\", \"Woodley Park\"\n",
    "]\n",
    "\n",
    "new_set = set(metro_station)\n",
    "old_set = set(original)\n",
    "\n",
    "difference_new = new_set.difference(old_set)\n",
    "print(difference_new)\n",
    "print(len(difference_new))\n",
    "\n",
    "difference_old = old_set.difference(new_set)\n",
    "print(difference_old)\n",
    "print(len(difference_old))"
   ]
  },
  {
   "cell_type": "code",
   "execution_count": null,
   "metadata": {},
   "outputs": [],
   "source": [
    "#list of dict. keys = name in metro_station (what we want to get rid of), values = name in original (what we want to change it to)\n",
    "fixes = [{'Dunn Loring-Merrifield':'Dunn Loring'},{'Woodley Park-Zoo/Adams Morgan':'Woodley Park'},\n",
    "         {'Southern Avenue':'Southern Ave'},{'Gallery Pl-Chinatown':'Gallery Place'},\n",
    "         {'Vienna/Fairfax-GMU':'Vienna'}, {'Virginia Square-GMU':'Virginia Sq-GMU'}, {'Addison Road-Seat Pleasant':'Addison Road'}\n",
    "         ,{'Washington Dulles International Airport':'Dulles Airport'},{'Rhode Island Ave-Brentwood':'Rhode Island Ave'},\n",
    "         {'U Street/African-Amer Civil War Memorial/Cardozo':'U Street'},\n",
    "        {'Mt Vernon Sq 7th St-Convention Center':'Mt Vernon Sq'}, {'Archives-Navy Memorial-Penn Quarter':'Archives'}]\n",
    "\n",
    "#I just did it by hand"
   ]
  },
  {
   "cell_type": "markdown",
   "metadata": {},
   "source": [
    "Now I want to add the month name as a column to each csv in Info_Challenge/Data_From_WMATA/CSV_Format/By_Month\n",
    "so I can create a giant csv with all the data so it can all be one df."
   ]
  },
  {
   "cell_type": "code",
   "execution_count": 13,
   "metadata": {},
   "outputs": [
    {
     "name": "stdout",
     "output_type": "stream",
     "text": [
      "File updated\n"
     ]
    }
   ],
   "source": [
    "import pandas as pd\n",
    "\n",
    "file_path = input(\"Enter the CSV filename (with path): \")\n",
    "\n",
    "df = pd.read_csv(file_path)\n",
    "\n",
    "#input for MONTH and SEASON\n",
    "month_value = input(\"Enter the value for MONTH: \")\n",
    "season_value = input(\"Enter the value for SEASON: \")\n",
    "\n",
    "# Add or update columns\n",
    "df[\"MONTH\"] = month_value\n",
    "df[\"SEASON\"] = season_value\n",
    "\n",
    "# Save over the og\n",
    "df.to_csv(file_path, index=False)\n",
    "\n",
    "print(\"File updated\")\n"
   ]
  }
 ],
 "metadata": {
  "kernelspec": {
   "display_name": "Python 3",
   "language": "python",
   "name": "python3"
  },
  "language_info": {
   "codemirror_mode": {
    "name": "ipython",
    "version": 3
   },
   "file_extension": ".py",
   "mimetype": "text/x-python",
   "name": "python",
   "nbconvert_exporter": "python",
   "pygments_lexer": "ipython3",
   "version": "3.12.6"
  }
 },
 "nbformat": 4,
 "nbformat_minor": 2
}
