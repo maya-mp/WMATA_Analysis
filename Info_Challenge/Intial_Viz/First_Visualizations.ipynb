{
 "cells": [
  {
   "cell_type": "markdown",
   "metadata": {},
   "source": [
    "# IMPORTANT DATA FOR 2024 (USE FOR COMPARISON)\n",
    "\n",
    "**Source**: [WMATA Metrorail Ridership Summary](https://www.wmata.com/initiatives/ridership-portal/Metrorail-Ridership-Summary.cfm)\n",
    "\n",
    "---\n",
    "\n",
    "### ALL DATA FOR 2024 ONLY\n",
    "\n",
    "#### Average (M-Sun) Daily Entries Per Day over the Whole Year\n",
    "- **Total Average**: 394,582\n",
    "\n",
    "#### Average Daily Entries Over All Stations by Day of the Week\n",
    "- **Mondays**: 339,775\n",
    "- **Tuesdays**: 423,610\n",
    "- **Wednesdays**: 427,648\n",
    "- **Thursdays**: 420,062\n",
    "- **Fridays**: 362,359\n",
    "- **Saturdays**: 270,954\n",
    "- **Sundays**: 204,772\n",
    "\n",
    "**Observation**:  \n",
    "- **Highest**: Mid-week (Tuesday to Thursday)  \n",
    "- **Lowest**: Weekends  \n",
    "- **Assumption**: A large portion of people primarily use the metro for commuting.\n",
    "\n",
    "---\n",
    "\n",
    "#### Average Daily Entries of All Stations by Month in 2024\n",
    "- **January**: 288,410\n",
    "- **February**: 328,881\n",
    "- **March**: 372,934\n",
    "- **April**: 384,630\n",
    "- **May**: 363,360\n",
    "- **June**: 360,303\n",
    "- **July**: 356,562\n",
    "- **August**: 329,019\n",
    "- **September**: 365,487\n",
    "- **October**: 400,764\n",
    "- **November**: 333,920\n",
    "- **December**: 314,386\n",
    "\n",
    "---\n",
    "\n",
    "#### Average Daily Entries by Season\n",
    "- **Spring (March, April, May)**: 373,641\n",
    "- **Summer (June, July, August)**: 348,628\n",
    "- **Fall (September, October, November)**: 366,723\n",
    "- **Winter (December, January, February)**: 310,559\n",
    "\n",
    "**Observation**:  \n",
    "- **Least Busy**: Summer and Winter  \n",
    "- **Most Busy**: Fall and Spring\n",
    "\n",
    "---\n",
    "\n",
    "#### Metro Information on Capacity\n",
    "- Metro can only run a maximum of **26 trains per hour** safely/efficiently on each track.\n",
    "- **120 max passengers** per car (section of train).\n",
    "- Trains are **6-8 cars long**.\n",
    "\n",
    "**Source**: [WMATA Corridor Data Maps](https://www.wmata.com/initiatives/plans/upload/BOS-Corridor-Data-Maps.pdf)\n"
   ]
  },
  {
   "cell_type": "code",
   "execution_count": null,
   "metadata": {
    "vscode": {
     "languageId": "plaintext"
    }
   },
   "outputs": [],
   "source": []
  }
 ],
 "metadata": {
  "language_info": {
   "name": "python"
  }
 },
 "nbformat": 4,
 "nbformat_minor": 2
}
