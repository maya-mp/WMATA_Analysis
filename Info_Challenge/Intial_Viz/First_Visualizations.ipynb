{
 "cells": [
  {
   "cell_type": "markdown",
   "metadata": {},
   "source": [
    "# IMPORTANT DATA FOR 2024 (USE FOR COMPARISON)\n",
    "\n",
    "**Source**: [WMATA Metrorail Ridership Summary](https://www.wmata.com/initiatives/ridership-portal/Metrorail-Ridership-Summary.cfm)\n",
    "\n",
    "---\n",
    "\n",
    "### ALL DATA FOR 2024 ONLY (Calc By Hand From Website Data)\n",
    "\n",
    "#### Average (M-Sun) Daily Entries Per Day over the Whole Year\n",
    "- **Total Average**: 394,582\n",
    "\n",
    "#### Average Daily Entries Over All Stations by Day of the Week\n",
    "- **Mondays**: 339,775\n",
    "- **Tuesdays**: 423,610\n",
    "- **Wednesdays**: 427,648\n",
    "- **Thursdays**: 420,062\n",
    "- **Fridays**: 362,359\n",
    "- **Saturdays**: 270,954\n",
    "- **Sundays**: 204,772\n",
    "\n",
    "**Observation**:  \n",
    "- **Highest**: Mid-week (Tuesday to Thursday)  \n",
    "- **Lowest**: Weekends  \n",
    "- **Assumption**: A large portion of people primarily use the metro for commuting.\n",
    "\n",
    "---\n",
    "\n",
    "#### Average Daily Entries of All Stations by Month in 2024\n",
    "- **January**: 288,410\n",
    "- **February**: 328,881\n",
    "- **March**: 372,934\n",
    "- **April**: 384,630\n",
    "- **May**: 363,360\n",
    "- **June**: 360,303\n",
    "- **July**: 356,562\n",
    "- **August**: 329,019\n",
    "- **September**: 365,487\n",
    "- **October**: 400,764\n",
    "- **November**: 333,920\n",
    "- **December**: 314,386\n",
    "\n",
    "---\n",
    "\n",
    "#### Average Daily Entries by Season\n",
    "- **Spring (March, April, May)**: 373,641\n",
    "- **Summer (June, July, August)**: 348,628\n",
    "- **Fall (September, October, November)**: 366,723\n",
    "- **Winter (December, January, February)**: 310,559\n",
    "\n",
    "**Observation**:  \n",
    "- **Least Busy**: Summer and Winter  \n",
    "- **Most Busy**: Fall and Spring\n",
    "\n",
    "---\n",
    "\n",
    "#### Metro Information on Capacity\n",
    "- Metro can only run a maximum of **26 trains per hour** safely/efficiently on each track.\n",
    "- **120 max passengers** per car (section of train).\n",
    "- Trains are **6-8 cars long**.\n",
    "\n",
    "**Source**: [WMATA Corridor Data Maps](https://www.wmata.com/initiatives/plans/upload/BOS-Corridor-Data-Maps.pdf)\n"
   ]
  },
  {
   "cell_type": "code",
   "execution_count": 9,
   "metadata": {},
   "outputs": [
    {
     "name": "stdout",
     "output_type": "stream",
     "text": [
      "              X             Y              NAME  \\\n",
      "0 -8.561745e+06  4.696843e+06        Branch Ave   \n",
      "1 -8.577575e+06  4.695085e+06     Braddock Road   \n",
      "2 -8.578371e+06  4.694006e+06  King St-Old Town   \n",
      "3 -8.579491e+06  4.693126e+06    Eisenhower Ave   \n",
      "4 -8.579973e+06  4.692196e+06        Huntington   \n",
      "\n",
      "                                  ADDRESS          LINE  \\\n",
      "0       4704 OLD SOPER ROAD, SUITLAND, MD         green   \n",
      "1         700 N. WEST ST., ALEXANDRIA, VA  blue, yellow   \n",
      "2        1900 KING STREET, ALEXANDRIA, VA  blue, yellow   \n",
      "3  2400 EISENHOWER AVENUE, ALEXANDRIA, VA        yellow   \n",
      "4  2701 HUNTINGTON AVENUE, ALEXANDRIA, VA        yellow   \n",
      "\n",
      "                STATION_TYPE  NUMBER_OF_LINES  \n",
      "0  ['Residential', 'Events']                1  \n",
      "1    ['Residential', 'Jobs']                2  \n",
      "2    ['Residential', 'Jobs']                2  \n",
      "3    ['Residential', 'Jobs']                1  \n",
      "4            ['Residential']                1  \n"
     ]
    }
   ],
   "source": [
    "#Opening df for dataset on Metro Station Specs\n",
    "import pandas as pd\n",
    "\n",
    "stations_df = pd.read_csv(\"metro_stations.csv\")\n",
    "print(stations_df.head(5))\n",
    "\n"
   ]
  },
  {
   "cell_type": "code",
   "execution_count": 10,
   "metadata": {},
   "outputs": [
    {
     "name": "stdout",
     "output_type": "stream",
     "text": [
      "         Station Name AM Peak (Open-9:30am) Midday (9:30am-3pm)  \\\n",
      "0        Addison Road                580.00              287.00   \n",
      "1           Anacostia              1,054.00            1,062.00   \n",
      "2            Archives                145.00              725.00   \n",
      "3  Arlington Cemetery                 52.00              234.00   \n",
      "4             Ashburn                491.00              239.00   \n",
      "\n",
      "  PM Peak (3pm-7pm) Evening (7pm-12am)  Late Night (12am-Close)    MONTH  \\\n",
      "0            149.00              78.00                      8.0  January   \n",
      "1            907.00             332.00                     18.0  January   \n",
      "2          2,167.00             429.00                     12.0  January   \n",
      "3            222.00              39.00                      5.0  January   \n",
      "4            139.00              39.00                      2.0  January   \n",
      "\n",
      "   SEASON  \n",
      "0  Winter  \n",
      "1  Winter  \n",
      "2  Winter  \n",
      "3  Winter  \n",
      "4  Winter  \n"
     ]
    }
   ],
   "source": [
    "#Opening df for dataset on Average entries by station by month for all days of the week in 2024\n",
    "import pandas as pd\n",
    "\n",
    "av_by_month_df = pd.read_csv(\"All_Months.csv\")\n",
    "print(av_by_month_df.head(5))"
   ]
  },
  {
   "cell_type": "code",
   "execution_count": 11,
   "metadata": {},
   "outputs": [
    {
     "name": "stderr",
     "output_type": "stream",
     "text": [
      "<>:4: SyntaxWarning: invalid escape sequence '\\D'\n",
      "<>:5: SyntaxWarning: invalid escape sequence '\\D'\n",
      "<>:6: SyntaxWarning: invalid escape sequence '\\D'\n",
      "<>:4: SyntaxWarning: invalid escape sequence '\\D'\n",
      "<>:5: SyntaxWarning: invalid escape sequence '\\D'\n",
      "<>:6: SyntaxWarning: invalid escape sequence '\\D'\n",
      "C:\\Users\\mayap\\AppData\\Local\\Temp\\ipykernel_6024\\3618782274.py:4: SyntaxWarning: invalid escape sequence '\\D'\n",
      "  av_for_year_all_days_df = pd.read_csv(\"Info_Challenge\\Data_From_WMATA\\CSV_Format\\Annual\\Boardings by Route Table All Days of Week 2024.csv\")\n",
      "C:\\Users\\mayap\\AppData\\Local\\Temp\\ipykernel_6024\\3618782274.py:5: SyntaxWarning: invalid escape sequence '\\D'\n",
      "  av_for_year_weekdays_df = pd.read_csv(\"Info_Challenge\\Data_From_WMATA\\CSV_Format\\Annual\\Boardings by Route Table Weekdays(M-F) 2024.csv\")\n",
      "C:\\Users\\mayap\\AppData\\Local\\Temp\\ipykernel_6024\\3618782274.py:6: SyntaxWarning: invalid escape sequence '\\D'\n",
      "  av_for_year_weekends_df = pd.read_csv(\"Info_Challenge\\Data_From_WMATA\\CSV_Format\\Annual\\Boardings by Route Table Weekends(Sat-Sun) 2024.csv\")\n",
      "C:\\Users\\mayap\\AppData\\Local\\Temp\\ipykernel_6024\\3618782274.py:4: SyntaxWarning: invalid escape sequence '\\D'\n",
      "  av_for_year_all_days_df = pd.read_csv(\"Info_Challenge\\Data_From_WMATA\\CSV_Format\\Annual\\Boardings by Route Table All Days of Week 2024.csv\")\n",
      "C:\\Users\\mayap\\AppData\\Local\\Temp\\ipykernel_6024\\3618782274.py:5: SyntaxWarning: invalid escape sequence '\\D'\n",
      "  av_for_year_weekdays_df = pd.read_csv(\"Info_Challenge\\Data_From_WMATA\\CSV_Format\\Annual\\Boardings by Route Table Weekdays(M-F) 2024.csv\")\n",
      "C:\\Users\\mayap\\AppData\\Local\\Temp\\ipykernel_6024\\3618782274.py:6: SyntaxWarning: invalid escape sequence '\\D'\n",
      "  av_for_year_weekends_df = pd.read_csv(\"Info_Challenge\\Data_From_WMATA\\CSV_Format\\Annual\\Boardings by Route Table Weekends(Sat-Sun) 2024.csv\")\n"
     ]
    },
    {
     "ename": "FileNotFoundError",
     "evalue": "[Errno 2] No such file or directory: 'Info_Challenge\\\\Data_From_WMATA\\\\CSV_Format\\\\Annual\\\\Boardings by Route Table All Days of Week 2024.csv'",
     "output_type": "error",
     "traceback": [
      "\u001b[1;31m---------------------------------------------------------------------------\u001b[0m",
      "\u001b[1;31mFileNotFoundError\u001b[0m                         Traceback (most recent call last)",
      "Cell \u001b[1;32mIn[11], line 4\u001b[0m\n\u001b[0;32m      1\u001b[0m \u001b[38;5;66;03m#df for average annual entries for all days, weekdays, and weekends in respective order\u001b[39;00m\n\u001b[0;32m      2\u001b[0m \u001b[38;5;28;01mimport\u001b[39;00m \u001b[38;5;21;01mpandas\u001b[39;00m \u001b[38;5;28;01mas\u001b[39;00m \u001b[38;5;21;01mpd\u001b[39;00m\n\u001b[1;32m----> 4\u001b[0m av_for_year_all_days_df \u001b[38;5;241m=\u001b[39m \u001b[43mpd\u001b[49m\u001b[38;5;241;43m.\u001b[39;49m\u001b[43mread_csv\u001b[49m\u001b[43m(\u001b[49m\u001b[38;5;124;43m\"\u001b[39;49m\u001b[38;5;124;43mInfo_Challenge\u001b[39;49m\u001b[38;5;124;43m\\\u001b[39;49m\u001b[38;5;124;43mData_From_WMATA\u001b[39;49m\u001b[38;5;124;43m\\\u001b[39;49m\u001b[38;5;124;43mCSV_Format\u001b[39;49m\u001b[38;5;124;43m\\\u001b[39;49m\u001b[38;5;124;43mAnnual\u001b[39;49m\u001b[38;5;124;43m\\\u001b[39;49m\u001b[38;5;124;43mBoardings by Route Table All Days of Week 2024.csv\u001b[39;49m\u001b[38;5;124;43m\"\u001b[39;49m\u001b[43m)\u001b[49m\n\u001b[0;32m      5\u001b[0m av_for_year_weekdays_df \u001b[38;5;241m=\u001b[39m pd\u001b[38;5;241m.\u001b[39mread_csv(\u001b[38;5;124m\"\u001b[39m\u001b[38;5;124mInfo_Challenge\u001b[39m\u001b[38;5;124m\\\u001b[39m\u001b[38;5;124mData_From_WMATA\u001b[39m\u001b[38;5;124m\\\u001b[39m\u001b[38;5;124mCSV_Format\u001b[39m\u001b[38;5;124m\\\u001b[39m\u001b[38;5;124mAnnual\u001b[39m\u001b[38;5;124m\\\u001b[39m\u001b[38;5;124mBoardings by Route Table Weekdays(M-F) 2024.csv\u001b[39m\u001b[38;5;124m\"\u001b[39m)\n\u001b[0;32m      6\u001b[0m av_for_year_weekends_df \u001b[38;5;241m=\u001b[39m pd\u001b[38;5;241m.\u001b[39mread_csv(\u001b[38;5;124m\"\u001b[39m\u001b[38;5;124mInfo_Challenge\u001b[39m\u001b[38;5;124m\\\u001b[39m\u001b[38;5;124mData_From_WMATA\u001b[39m\u001b[38;5;124m\\\u001b[39m\u001b[38;5;124mCSV_Format\u001b[39m\u001b[38;5;124m\\\u001b[39m\u001b[38;5;124mAnnual\u001b[39m\u001b[38;5;124m\\\u001b[39m\u001b[38;5;124mBoardings by Route Table Weekends(Sat-Sun) 2024.csv\u001b[39m\u001b[38;5;124m\"\u001b[39m)\n",
      "File \u001b[1;32mc:\\Users\\mayap\\AppData\\Local\\Programs\\Python\\Python312\\Lib\\site-packages\\pandas\\io\\parsers\\readers.py:1026\u001b[0m, in \u001b[0;36mread_csv\u001b[1;34m(filepath_or_buffer, sep, delimiter, header, names, index_col, usecols, dtype, engine, converters, true_values, false_values, skipinitialspace, skiprows, skipfooter, nrows, na_values, keep_default_na, na_filter, verbose, skip_blank_lines, parse_dates, infer_datetime_format, keep_date_col, date_parser, date_format, dayfirst, cache_dates, iterator, chunksize, compression, thousands, decimal, lineterminator, quotechar, quoting, doublequote, escapechar, comment, encoding, encoding_errors, dialect, on_bad_lines, delim_whitespace, low_memory, memory_map, float_precision, storage_options, dtype_backend)\u001b[0m\n\u001b[0;32m   1013\u001b[0m kwds_defaults \u001b[38;5;241m=\u001b[39m _refine_defaults_read(\n\u001b[0;32m   1014\u001b[0m     dialect,\n\u001b[0;32m   1015\u001b[0m     delimiter,\n\u001b[1;32m   (...)\u001b[0m\n\u001b[0;32m   1022\u001b[0m     dtype_backend\u001b[38;5;241m=\u001b[39mdtype_backend,\n\u001b[0;32m   1023\u001b[0m )\n\u001b[0;32m   1024\u001b[0m kwds\u001b[38;5;241m.\u001b[39mupdate(kwds_defaults)\n\u001b[1;32m-> 1026\u001b[0m \u001b[38;5;28;01mreturn\u001b[39;00m \u001b[43m_read\u001b[49m\u001b[43m(\u001b[49m\u001b[43mfilepath_or_buffer\u001b[49m\u001b[43m,\u001b[49m\u001b[43m \u001b[49m\u001b[43mkwds\u001b[49m\u001b[43m)\u001b[49m\n",
      "File \u001b[1;32mc:\\Users\\mayap\\AppData\\Local\\Programs\\Python\\Python312\\Lib\\site-packages\\pandas\\io\\parsers\\readers.py:620\u001b[0m, in \u001b[0;36m_read\u001b[1;34m(filepath_or_buffer, kwds)\u001b[0m\n\u001b[0;32m    617\u001b[0m _validate_names(kwds\u001b[38;5;241m.\u001b[39mget(\u001b[38;5;124m\"\u001b[39m\u001b[38;5;124mnames\u001b[39m\u001b[38;5;124m\"\u001b[39m, \u001b[38;5;28;01mNone\u001b[39;00m))\n\u001b[0;32m    619\u001b[0m \u001b[38;5;66;03m# Create the parser.\u001b[39;00m\n\u001b[1;32m--> 620\u001b[0m parser \u001b[38;5;241m=\u001b[39m \u001b[43mTextFileReader\u001b[49m\u001b[43m(\u001b[49m\u001b[43mfilepath_or_buffer\u001b[49m\u001b[43m,\u001b[49m\u001b[43m \u001b[49m\u001b[38;5;241;43m*\u001b[39;49m\u001b[38;5;241;43m*\u001b[39;49m\u001b[43mkwds\u001b[49m\u001b[43m)\u001b[49m\n\u001b[0;32m    622\u001b[0m \u001b[38;5;28;01mif\u001b[39;00m chunksize \u001b[38;5;129;01mor\u001b[39;00m iterator:\n\u001b[0;32m    623\u001b[0m     \u001b[38;5;28;01mreturn\u001b[39;00m parser\n",
      "File \u001b[1;32mc:\\Users\\mayap\\AppData\\Local\\Programs\\Python\\Python312\\Lib\\site-packages\\pandas\\io\\parsers\\readers.py:1620\u001b[0m, in \u001b[0;36mTextFileReader.__init__\u001b[1;34m(self, f, engine, **kwds)\u001b[0m\n\u001b[0;32m   1617\u001b[0m     \u001b[38;5;28mself\u001b[39m\u001b[38;5;241m.\u001b[39moptions[\u001b[38;5;124m\"\u001b[39m\u001b[38;5;124mhas_index_names\u001b[39m\u001b[38;5;124m\"\u001b[39m] \u001b[38;5;241m=\u001b[39m kwds[\u001b[38;5;124m\"\u001b[39m\u001b[38;5;124mhas_index_names\u001b[39m\u001b[38;5;124m\"\u001b[39m]\n\u001b[0;32m   1619\u001b[0m \u001b[38;5;28mself\u001b[39m\u001b[38;5;241m.\u001b[39mhandles: IOHandles \u001b[38;5;241m|\u001b[39m \u001b[38;5;28;01mNone\u001b[39;00m \u001b[38;5;241m=\u001b[39m \u001b[38;5;28;01mNone\u001b[39;00m\n\u001b[1;32m-> 1620\u001b[0m \u001b[38;5;28mself\u001b[39m\u001b[38;5;241m.\u001b[39m_engine \u001b[38;5;241m=\u001b[39m \u001b[38;5;28;43mself\u001b[39;49m\u001b[38;5;241;43m.\u001b[39;49m\u001b[43m_make_engine\u001b[49m\u001b[43m(\u001b[49m\u001b[43mf\u001b[49m\u001b[43m,\u001b[49m\u001b[43m \u001b[49m\u001b[38;5;28;43mself\u001b[39;49m\u001b[38;5;241;43m.\u001b[39;49m\u001b[43mengine\u001b[49m\u001b[43m)\u001b[49m\n",
      "File \u001b[1;32mc:\\Users\\mayap\\AppData\\Local\\Programs\\Python\\Python312\\Lib\\site-packages\\pandas\\io\\parsers\\readers.py:1880\u001b[0m, in \u001b[0;36mTextFileReader._make_engine\u001b[1;34m(self, f, engine)\u001b[0m\n\u001b[0;32m   1878\u001b[0m     \u001b[38;5;28;01mif\u001b[39;00m \u001b[38;5;124m\"\u001b[39m\u001b[38;5;124mb\u001b[39m\u001b[38;5;124m\"\u001b[39m \u001b[38;5;129;01mnot\u001b[39;00m \u001b[38;5;129;01min\u001b[39;00m mode:\n\u001b[0;32m   1879\u001b[0m         mode \u001b[38;5;241m+\u001b[39m\u001b[38;5;241m=\u001b[39m \u001b[38;5;124m\"\u001b[39m\u001b[38;5;124mb\u001b[39m\u001b[38;5;124m\"\u001b[39m\n\u001b[1;32m-> 1880\u001b[0m \u001b[38;5;28mself\u001b[39m\u001b[38;5;241m.\u001b[39mhandles \u001b[38;5;241m=\u001b[39m \u001b[43mget_handle\u001b[49m\u001b[43m(\u001b[49m\n\u001b[0;32m   1881\u001b[0m \u001b[43m    \u001b[49m\u001b[43mf\u001b[49m\u001b[43m,\u001b[49m\n\u001b[0;32m   1882\u001b[0m \u001b[43m    \u001b[49m\u001b[43mmode\u001b[49m\u001b[43m,\u001b[49m\n\u001b[0;32m   1883\u001b[0m \u001b[43m    \u001b[49m\u001b[43mencoding\u001b[49m\u001b[38;5;241;43m=\u001b[39;49m\u001b[38;5;28;43mself\u001b[39;49m\u001b[38;5;241;43m.\u001b[39;49m\u001b[43moptions\u001b[49m\u001b[38;5;241;43m.\u001b[39;49m\u001b[43mget\u001b[49m\u001b[43m(\u001b[49m\u001b[38;5;124;43m\"\u001b[39;49m\u001b[38;5;124;43mencoding\u001b[39;49m\u001b[38;5;124;43m\"\u001b[39;49m\u001b[43m,\u001b[49m\u001b[43m \u001b[49m\u001b[38;5;28;43;01mNone\u001b[39;49;00m\u001b[43m)\u001b[49m\u001b[43m,\u001b[49m\n\u001b[0;32m   1884\u001b[0m \u001b[43m    \u001b[49m\u001b[43mcompression\u001b[49m\u001b[38;5;241;43m=\u001b[39;49m\u001b[38;5;28;43mself\u001b[39;49m\u001b[38;5;241;43m.\u001b[39;49m\u001b[43moptions\u001b[49m\u001b[38;5;241;43m.\u001b[39;49m\u001b[43mget\u001b[49m\u001b[43m(\u001b[49m\u001b[38;5;124;43m\"\u001b[39;49m\u001b[38;5;124;43mcompression\u001b[39;49m\u001b[38;5;124;43m\"\u001b[39;49m\u001b[43m,\u001b[49m\u001b[43m \u001b[49m\u001b[38;5;28;43;01mNone\u001b[39;49;00m\u001b[43m)\u001b[49m\u001b[43m,\u001b[49m\n\u001b[0;32m   1885\u001b[0m \u001b[43m    \u001b[49m\u001b[43mmemory_map\u001b[49m\u001b[38;5;241;43m=\u001b[39;49m\u001b[38;5;28;43mself\u001b[39;49m\u001b[38;5;241;43m.\u001b[39;49m\u001b[43moptions\u001b[49m\u001b[38;5;241;43m.\u001b[39;49m\u001b[43mget\u001b[49m\u001b[43m(\u001b[49m\u001b[38;5;124;43m\"\u001b[39;49m\u001b[38;5;124;43mmemory_map\u001b[39;49m\u001b[38;5;124;43m\"\u001b[39;49m\u001b[43m,\u001b[49m\u001b[43m \u001b[49m\u001b[38;5;28;43;01mFalse\u001b[39;49;00m\u001b[43m)\u001b[49m\u001b[43m,\u001b[49m\n\u001b[0;32m   1886\u001b[0m \u001b[43m    \u001b[49m\u001b[43mis_text\u001b[49m\u001b[38;5;241;43m=\u001b[39;49m\u001b[43mis_text\u001b[49m\u001b[43m,\u001b[49m\n\u001b[0;32m   1887\u001b[0m \u001b[43m    \u001b[49m\u001b[43merrors\u001b[49m\u001b[38;5;241;43m=\u001b[39;49m\u001b[38;5;28;43mself\u001b[39;49m\u001b[38;5;241;43m.\u001b[39;49m\u001b[43moptions\u001b[49m\u001b[38;5;241;43m.\u001b[39;49m\u001b[43mget\u001b[49m\u001b[43m(\u001b[49m\u001b[38;5;124;43m\"\u001b[39;49m\u001b[38;5;124;43mencoding_errors\u001b[39;49m\u001b[38;5;124;43m\"\u001b[39;49m\u001b[43m,\u001b[49m\u001b[43m \u001b[49m\u001b[38;5;124;43m\"\u001b[39;49m\u001b[38;5;124;43mstrict\u001b[39;49m\u001b[38;5;124;43m\"\u001b[39;49m\u001b[43m)\u001b[49m\u001b[43m,\u001b[49m\n\u001b[0;32m   1888\u001b[0m \u001b[43m    \u001b[49m\u001b[43mstorage_options\u001b[49m\u001b[38;5;241;43m=\u001b[39;49m\u001b[38;5;28;43mself\u001b[39;49m\u001b[38;5;241;43m.\u001b[39;49m\u001b[43moptions\u001b[49m\u001b[38;5;241;43m.\u001b[39;49m\u001b[43mget\u001b[49m\u001b[43m(\u001b[49m\u001b[38;5;124;43m\"\u001b[39;49m\u001b[38;5;124;43mstorage_options\u001b[39;49m\u001b[38;5;124;43m\"\u001b[39;49m\u001b[43m,\u001b[49m\u001b[43m \u001b[49m\u001b[38;5;28;43;01mNone\u001b[39;49;00m\u001b[43m)\u001b[49m\u001b[43m,\u001b[49m\n\u001b[0;32m   1889\u001b[0m \u001b[43m\u001b[49m\u001b[43m)\u001b[49m\n\u001b[0;32m   1890\u001b[0m \u001b[38;5;28;01massert\u001b[39;00m \u001b[38;5;28mself\u001b[39m\u001b[38;5;241m.\u001b[39mhandles \u001b[38;5;129;01mis\u001b[39;00m \u001b[38;5;129;01mnot\u001b[39;00m \u001b[38;5;28;01mNone\u001b[39;00m\n\u001b[0;32m   1891\u001b[0m f \u001b[38;5;241m=\u001b[39m \u001b[38;5;28mself\u001b[39m\u001b[38;5;241m.\u001b[39mhandles\u001b[38;5;241m.\u001b[39mhandle\n",
      "File \u001b[1;32mc:\\Users\\mayap\\AppData\\Local\\Programs\\Python\\Python312\\Lib\\site-packages\\pandas\\io\\common.py:873\u001b[0m, in \u001b[0;36mget_handle\u001b[1;34m(path_or_buf, mode, encoding, compression, memory_map, is_text, errors, storage_options)\u001b[0m\n\u001b[0;32m    868\u001b[0m \u001b[38;5;28;01melif\u001b[39;00m \u001b[38;5;28misinstance\u001b[39m(handle, \u001b[38;5;28mstr\u001b[39m):\n\u001b[0;32m    869\u001b[0m     \u001b[38;5;66;03m# Check whether the filename is to be opened in binary mode.\u001b[39;00m\n\u001b[0;32m    870\u001b[0m     \u001b[38;5;66;03m# Binary mode does not support 'encoding' and 'newline'.\u001b[39;00m\n\u001b[0;32m    871\u001b[0m     \u001b[38;5;28;01mif\u001b[39;00m ioargs\u001b[38;5;241m.\u001b[39mencoding \u001b[38;5;129;01mand\u001b[39;00m \u001b[38;5;124m\"\u001b[39m\u001b[38;5;124mb\u001b[39m\u001b[38;5;124m\"\u001b[39m \u001b[38;5;129;01mnot\u001b[39;00m \u001b[38;5;129;01min\u001b[39;00m ioargs\u001b[38;5;241m.\u001b[39mmode:\n\u001b[0;32m    872\u001b[0m         \u001b[38;5;66;03m# Encoding\u001b[39;00m\n\u001b[1;32m--> 873\u001b[0m         handle \u001b[38;5;241m=\u001b[39m \u001b[38;5;28;43mopen\u001b[39;49m\u001b[43m(\u001b[49m\n\u001b[0;32m    874\u001b[0m \u001b[43m            \u001b[49m\u001b[43mhandle\u001b[49m\u001b[43m,\u001b[49m\n\u001b[0;32m    875\u001b[0m \u001b[43m            \u001b[49m\u001b[43mioargs\u001b[49m\u001b[38;5;241;43m.\u001b[39;49m\u001b[43mmode\u001b[49m\u001b[43m,\u001b[49m\n\u001b[0;32m    876\u001b[0m \u001b[43m            \u001b[49m\u001b[43mencoding\u001b[49m\u001b[38;5;241;43m=\u001b[39;49m\u001b[43mioargs\u001b[49m\u001b[38;5;241;43m.\u001b[39;49m\u001b[43mencoding\u001b[49m\u001b[43m,\u001b[49m\n\u001b[0;32m    877\u001b[0m \u001b[43m            \u001b[49m\u001b[43merrors\u001b[49m\u001b[38;5;241;43m=\u001b[39;49m\u001b[43merrors\u001b[49m\u001b[43m,\u001b[49m\n\u001b[0;32m    878\u001b[0m \u001b[43m            \u001b[49m\u001b[43mnewline\u001b[49m\u001b[38;5;241;43m=\u001b[39;49m\u001b[38;5;124;43m\"\u001b[39;49m\u001b[38;5;124;43m\"\u001b[39;49m\u001b[43m,\u001b[49m\n\u001b[0;32m    879\u001b[0m \u001b[43m        \u001b[49m\u001b[43m)\u001b[49m\n\u001b[0;32m    880\u001b[0m     \u001b[38;5;28;01melse\u001b[39;00m:\n\u001b[0;32m    881\u001b[0m         \u001b[38;5;66;03m# Binary mode\u001b[39;00m\n\u001b[0;32m    882\u001b[0m         handle \u001b[38;5;241m=\u001b[39m \u001b[38;5;28mopen\u001b[39m(handle, ioargs\u001b[38;5;241m.\u001b[39mmode)\n",
      "\u001b[1;31mFileNotFoundError\u001b[0m: [Errno 2] No such file or directory: 'Info_Challenge\\\\Data_From_WMATA\\\\CSV_Format\\\\Annual\\\\Boardings by Route Table All Days of Week 2024.csv'"
     ]
    }
   ],
   "source": [
    "#df for average annual entries for all days, weekdays, and weekends in respective order\n",
    "import pandas as pd\n",
    "\n",
    "av_for_year_all_days_df = pd.read_csv(\"Info_Challenge\\Data_From_WMATA\\CSV_Format\\Annual\\Boardings by Route Table All Days of Week 2024.csv\")\n",
    "av_for_year_weekdays_df = pd.read_csv(\"Info_Challenge\\Data_From_WMATA\\CSV_Format\\Annual\\Boardings by Route Table Weekdays(M-F) 2024.csv\")\n",
    "av_for_year_weekends_df = pd.read_csv(\"Info_Challenge\\Data_From_WMATA\\CSV_Format\\Annual\\Boardings by Route Table Weekends(Sat-Sun) 2024.csv\")\n",
    "\n",
    "print(av_for_year_all_days_df.head(3))\n",
    "print(av_for_year_weekdays_df.head(3))\n",
    "print(av_for_year_weekends_df.head(3))"
   ]
  },
  {
   "cell_type": "markdown",
   "metadata": {},
   "source": [
    "Note: The names of the stations should match up for all dfs"
   ]
  },
  {
   "cell_type": "markdown",
   "metadata": {},
   "source": [
    "Using this info let's try to explore some stuff using basic viz tools in python.\n",
    "\n",
    "Here are my ideas so far:\n",
    "\n",
    "1. "
   ]
  }
 ],
 "metadata": {
  "kernelspec": {
   "display_name": "Python 3",
   "language": "python",
   "name": "python3"
  },
  "language_info": {
   "codemirror_mode": {
    "name": "ipython",
    "version": 3
   },
   "file_extension": ".py",
   "mimetype": "text/x-python",
   "name": "python",
   "nbconvert_exporter": "python",
   "pygments_lexer": "ipython3",
   "version": "3.12.6"
  }
 },
 "nbformat": 4,
 "nbformat_minor": 2
}
