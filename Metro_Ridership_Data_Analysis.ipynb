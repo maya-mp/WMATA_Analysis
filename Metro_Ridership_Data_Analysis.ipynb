{
 "cells": [
  {
   "cell_type": "markdown",
   "metadata": {},
   "source": [
    "DC WMATA Metro Ridership Analysis"
   ]
  },
  {
   "cell_type": "markdown",
   "metadata": {},
   "source": [
    "Identify the busiest Metro stations in early Fall (e.g., Smithsonian, L’Enfant Plaza, Union Station)       (September 4)\n",
    "Bar Chart – Rank Metro stations by total ridership\n",
    "Heatmap – Highlight stations with the highest traffic increases"
   ]
  },
  {
   "cell_type": "code",
   "execution_count": null,
   "metadata": {},
   "outputs": [],
   "source": []
  },
  {
   "cell_type": "markdown",
   "metadata": {},
   "source": [
    "Analyze peak vs. non-peak ridership hours in earl Fall (September 4)\n",
    "Line graph – X-axis = Hour of the Day and Y-axis = Total Ridership"
   ]
  },
  {
   "cell_type": "code",
   "execution_count": null,
   "metadata": {},
   "outputs": [],
   "source": []
  },
  {
   "cell_type": "markdown",
   "metadata": {},
   "source": [
    "Compare weekday vs. weekend ridership trends to assess tourism and commuter behaviors (September 4 vs September 21)\n",
    "Bar Charts – X-axis = Metro stations and Y-axis = Ridership count\n",
    "Two bars per station: one for September 4 (weekday), one for  September 21 (weekend)\n",
    "Highlight which stations saw the largest increases from weekday to weekend."
   ]
  },
  {
   "cell_type": "code",
   "execution_count": null,
   "metadata": {},
   "outputs": [],
   "source": []
  }
 ],
 "metadata": {
  "language_info": {
   "name": "python"
  }
 },
 "nbformat": 4,
 "nbformat_minor": 2
}
